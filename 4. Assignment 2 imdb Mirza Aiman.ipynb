{
 "cells": [
  {
   "cell_type": "markdown",
   "id": "f5bad013-f415-46a6-bee7-3c7f4c8869bd",
   "metadata": {},
   "source": [
    "NAME: MOHAMAD MIRZA AIMAN BIN ZULKIPLE\n",
    "STUDENT ID: 52224121157"
   ]
  },
  {
   "cell_type": "markdown",
   "id": "c84bc554-e03f-40cf-8b3e-4a73704acb94",
   "metadata": {},
   "source": [
    "QUESTION 1: import pandas module, then read imdb.xlsx file into a Dataframe."
   ]
  },
  {
   "cell_type": "code",
   "execution_count": 1,
   "id": "cde0aa5c-cd47-4460-8493-cf5878adc5e1",
   "metadata": {},
   "outputs": [
    {
     "name": "stdout",
     "output_type": "stream",
     "text": [
      "<class 'pandas.core.frame.DataFrame'>\n"
     ]
    }
   ],
   "source": [
    "import pandas as pd\n",
    "xls = pd.ExcelFile(\"imdb.xlsx\")\n",
    "df  = xls.parse(\"imdb\")\n",
    "print(type(df)) \n"
   ]
  },
  {
   "cell_type": "markdown",
   "id": "9e8f5b54-f0b9-4920-8b8f-c392e4c11ab0",
   "metadata": {},
   "source": [
    "QUESTION 2: Find out how many total records are available in the Dataframe. Then, Display 10 rows from top and 10 rows from bottom.\n",
    "\n",
    " "
   ]
  },
  {
   "cell_type": "code",
   "execution_count": 86,
   "id": "d0245e80-da93-49d6-90a9-efd7af74220b",
   "metadata": {},
   "outputs": [
    {
     "name": "stdout",
     "output_type": "stream",
     "text": [
      "Total records available in Dataframe:  178\n"
     ]
    }
   ],
   "source": [
    "# This command is to find total records that available in the Dataframe.\n",
    "\n",
    "import pandas as pd\n",
    "\n",
    "total_records = len(df)\n",
    "print (\"Total records available in Dataframe: \", total_records)         "
   ]
  },
  {
   "cell_type": "code",
   "execution_count": 87,
   "id": "202a7754-96b6-4c38-a065-8156463368db",
   "metadata": {},
   "outputs": [
    {
     "data": {
      "text/html": [
       "<div>\n",
       "<style scoped>\n",
       "    .dataframe tbody tr th:only-of-type {\n",
       "        vertical-align: middle;\n",
       "    }\n",
       "\n",
       "    .dataframe tbody tr th {\n",
       "        vertical-align: top;\n",
       "    }\n",
       "\n",
       "    .dataframe thead th {\n",
       "        text-align: right;\n",
       "    }\n",
       "</style>\n",
       "<table border=\"1\" class=\"dataframe\">\n",
       "  <thead>\n",
       "    <tr style=\"text-align: right;\">\n",
       "      <th></th>\n",
       "      <th>movie_title</th>\n",
       "      <th>director_id</th>\n",
       "      <th>country_id</th>\n",
       "      <th>content_rating</th>\n",
       "      <th>title_year</th>\n",
       "      <th>imdb_score</th>\n",
       "      <th>gross</th>\n",
       "      <th>duration</th>\n",
       "    </tr>\n",
       "  </thead>\n",
       "  <tbody>\n",
       "    <tr>\n",
       "      <th>0</th>\n",
       "      <td>The Shawshank RedemptionÊ</td>\n",
       "      <td>34</td>\n",
       "      <td>1</td>\n",
       "      <td>R</td>\n",
       "      <td>1994</td>\n",
       "      <td>9.3</td>\n",
       "      <td>28341469</td>\n",
       "      <td>142</td>\n",
       "    </tr>\n",
       "    <tr>\n",
       "      <th>1</th>\n",
       "      <td>The GodfatherÊ</td>\n",
       "      <td>33</td>\n",
       "      <td>1</td>\n",
       "      <td>R</td>\n",
       "      <td>1972</td>\n",
       "      <td>9.2</td>\n",
       "      <td>134821952</td>\n",
       "      <td>175</td>\n",
       "    </tr>\n",
       "    <tr>\n",
       "      <th>2</th>\n",
       "      <td>The Dark KnightÊ</td>\n",
       "      <td>16</td>\n",
       "      <td>1</td>\n",
       "      <td>PG-13</td>\n",
       "      <td>2008</td>\n",
       "      <td>9.0</td>\n",
       "      <td>533316061</td>\n",
       "      <td>152</td>\n",
       "    </tr>\n",
       "    <tr>\n",
       "      <th>3</th>\n",
       "      <td>The Godfather: Part IIÊ</td>\n",
       "      <td>33</td>\n",
       "      <td>1</td>\n",
       "      <td>R</td>\n",
       "      <td>1974</td>\n",
       "      <td>9.0</td>\n",
       "      <td>57300000</td>\n",
       "      <td>220</td>\n",
       "    </tr>\n",
       "    <tr>\n",
       "      <th>4</th>\n",
       "      <td>The Lord of the Rings: The Return of the KingÊ</td>\n",
       "      <td>83</td>\n",
       "      <td>1</td>\n",
       "      <td>PG-13</td>\n",
       "      <td>2003</td>\n",
       "      <td>8.9</td>\n",
       "      <td>377019252</td>\n",
       "      <td>192</td>\n",
       "    </tr>\n",
       "    <tr>\n",
       "      <th>5</th>\n",
       "      <td>Pulp FictionÊ</td>\n",
       "      <td>85</td>\n",
       "      <td>1</td>\n",
       "      <td>R</td>\n",
       "      <td>1994</td>\n",
       "      <td>8.9</td>\n",
       "      <td>107930000</td>\n",
       "      <td>178</td>\n",
       "    </tr>\n",
       "    <tr>\n",
       "      <th>6</th>\n",
       "      <td>The Good, the Bad and the UglyÊ</td>\n",
       "      <td>98</td>\n",
       "      <td>2</td>\n",
       "      <td>Approved</td>\n",
       "      <td>1966</td>\n",
       "      <td>8.9</td>\n",
       "      <td>6100000</td>\n",
       "      <td>142</td>\n",
       "    </tr>\n",
       "    <tr>\n",
       "      <th>7</th>\n",
       "      <td>Schindler's ListÊ</td>\n",
       "      <td>103</td>\n",
       "      <td>1</td>\n",
       "      <td>R</td>\n",
       "      <td>1993</td>\n",
       "      <td>8.9</td>\n",
       "      <td>96067179</td>\n",
       "      <td>185</td>\n",
       "    </tr>\n",
       "    <tr>\n",
       "      <th>8</th>\n",
       "      <td>InceptionÊ</td>\n",
       "      <td>16</td>\n",
       "      <td>1</td>\n",
       "      <td>PG-13</td>\n",
       "      <td>2010</td>\n",
       "      <td>8.8</td>\n",
       "      <td>292568851</td>\n",
       "      <td>148</td>\n",
       "    </tr>\n",
       "    <tr>\n",
       "      <th>9</th>\n",
       "      <td>Fight ClubÊ</td>\n",
       "      <td>22</td>\n",
       "      <td>1</td>\n",
       "      <td>R</td>\n",
       "      <td>1999</td>\n",
       "      <td>8.8</td>\n",
       "      <td>37023395</td>\n",
       "      <td>151</td>\n",
       "    </tr>\n",
       "  </tbody>\n",
       "</table>\n",
       "</div>"
      ],
      "text/plain": [
       "                                      movie_title  director_id  country_id  \\\n",
       "0                       The Shawshank RedemptionÊ           34           1   \n",
       "1                                  The GodfatherÊ           33           1   \n",
       "2                                The Dark KnightÊ           16           1   \n",
       "3                         The Godfather: Part IIÊ           33           1   \n",
       "4  The Lord of the Rings: The Return of the KingÊ           83           1   \n",
       "5                                   Pulp FictionÊ           85           1   \n",
       "6                 The Good, the Bad and the UglyÊ           98           2   \n",
       "7                               Schindler's ListÊ          103           1   \n",
       "8                                      InceptionÊ           16           1   \n",
       "9                                     Fight ClubÊ           22           1   \n",
       "\n",
       "  content_rating  title_year  imdb_score      gross  duration  \n",
       "0              R        1994         9.3   28341469       142  \n",
       "1              R        1972         9.2  134821952       175  \n",
       "2          PG-13        2008         9.0  533316061       152  \n",
       "3              R        1974         9.0   57300000       220  \n",
       "4          PG-13        2003         8.9  377019252       192  \n",
       "5              R        1994         8.9  107930000       178  \n",
       "6       Approved        1966         8.9    6100000       142  \n",
       "7              R        1993         8.9   96067179       185  \n",
       "8          PG-13        2010         8.8  292568851       148  \n",
       "9              R        1999         8.8   37023395       151  "
      ]
     },
     "execution_count": 87,
     "metadata": {},
     "output_type": "execute_result"
    }
   ],
   "source": [
    "#The command to display 10 rows from top\n",
    "\n",
    "df.head(10)"
   ]
  },
  {
   "cell_type": "code",
   "execution_count": 88,
   "id": "a905a4f0-a245-4212-9e0c-c799e0cb3bd0",
   "metadata": {},
   "outputs": [
    {
     "data": {
      "text/html": [
       "<div>\n",
       "<style scoped>\n",
       "    .dataframe tbody tr th:only-of-type {\n",
       "        vertical-align: middle;\n",
       "    }\n",
       "\n",
       "    .dataframe tbody tr th {\n",
       "        vertical-align: top;\n",
       "    }\n",
       "\n",
       "    .dataframe thead th {\n",
       "        text-align: right;\n",
       "    }\n",
       "</style>\n",
       "<table border=\"1\" class=\"dataframe\">\n",
       "  <thead>\n",
       "    <tr style=\"text-align: right;\">\n",
       "      <th></th>\n",
       "      <th>movie_title</th>\n",
       "      <th>director_id</th>\n",
       "      <th>country_id</th>\n",
       "      <th>content_rating</th>\n",
       "      <th>title_year</th>\n",
       "      <th>imdb_score</th>\n",
       "      <th>gross</th>\n",
       "      <th>duration</th>\n",
       "    </tr>\n",
       "  </thead>\n",
       "  <tbody>\n",
       "    <tr>\n",
       "      <th>168</th>\n",
       "      <td>Before SunsetÊ</td>\n",
       "      <td>88</td>\n",
       "      <td>1</td>\n",
       "      <td>R</td>\n",
       "      <td>2004</td>\n",
       "      <td>8.0</td>\n",
       "      <td>5792822</td>\n",
       "      <td>80</td>\n",
       "    </tr>\n",
       "    <tr>\n",
       "      <th>169</th>\n",
       "      <td>BoyhoodÊ</td>\n",
       "      <td>88</td>\n",
       "      <td>1</td>\n",
       "      <td>R</td>\n",
       "      <td>2014</td>\n",
       "      <td>8.0</td>\n",
       "      <td>25359200</td>\n",
       "      <td>165</td>\n",
       "    </tr>\n",
       "    <tr>\n",
       "      <th>170</th>\n",
       "      <td>Cinderella ManÊ</td>\n",
       "      <td>95</td>\n",
       "      <td>1</td>\n",
       "      <td>PG-13</td>\n",
       "      <td>2005</td>\n",
       "      <td>8.0</td>\n",
       "      <td>61644321</td>\n",
       "      <td>144</td>\n",
       "    </tr>\n",
       "    <tr>\n",
       "      <th>171</th>\n",
       "      <td>A Fistful of DollarsÊ</td>\n",
       "      <td>98</td>\n",
       "      <td>2</td>\n",
       "      <td>R</td>\n",
       "      <td>1964</td>\n",
       "      <td>8.0</td>\n",
       "      <td>3500000</td>\n",
       "      <td>99</td>\n",
       "    </tr>\n",
       "    <tr>\n",
       "      <th>172</th>\n",
       "      <td>HerÊ</td>\n",
       "      <td>99</td>\n",
       "      <td>1</td>\n",
       "      <td>R</td>\n",
       "      <td>2013</td>\n",
       "      <td>8.0</td>\n",
       "      <td>25556065</td>\n",
       "      <td>126</td>\n",
       "    </tr>\n",
       "    <tr>\n",
       "      <th>173</th>\n",
       "      <td>The Perks of Being a WallflowerÊ</td>\n",
       "      <td>101</td>\n",
       "      <td>1</td>\n",
       "      <td>PG-13</td>\n",
       "      <td>2012</td>\n",
       "      <td>8.0</td>\n",
       "      <td>17738570</td>\n",
       "      <td>102</td>\n",
       "    </tr>\n",
       "    <tr>\n",
       "      <th>174</th>\n",
       "      <td>BrazilÊ</td>\n",
       "      <td>106</td>\n",
       "      <td>8</td>\n",
       "      <td>R</td>\n",
       "      <td>1985</td>\n",
       "      <td>8.0</td>\n",
       "      <td>9929000</td>\n",
       "      <td>142</td>\n",
       "    </tr>\n",
       "    <tr>\n",
       "      <th>175</th>\n",
       "      <td>Big FishÊ</td>\n",
       "      <td>108</td>\n",
       "      <td>1</td>\n",
       "      <td>PG-13</td>\n",
       "      <td>2003</td>\n",
       "      <td>8.0</td>\n",
       "      <td>66257002</td>\n",
       "      <td>125</td>\n",
       "    </tr>\n",
       "    <tr>\n",
       "      <th>176</th>\n",
       "      <td>True RomanceÊ</td>\n",
       "      <td>112</td>\n",
       "      <td>1</td>\n",
       "      <td>R</td>\n",
       "      <td>1993</td>\n",
       "      <td>8.0</td>\n",
       "      <td>12281500</td>\n",
       "      <td>121</td>\n",
       "    </tr>\n",
       "    <tr>\n",
       "      <th>177</th>\n",
       "      <td>PersepolisÊ</td>\n",
       "      <td>114</td>\n",
       "      <td>7</td>\n",
       "      <td>PG-13</td>\n",
       "      <td>2007</td>\n",
       "      <td>8.0</td>\n",
       "      <td>4443403</td>\n",
       "      <td>89</td>\n",
       "    </tr>\n",
       "  </tbody>\n",
       "</table>\n",
       "</div>"
      ],
      "text/plain": [
       "                          movie_title  director_id  country_id content_rating  \\\n",
       "168                    Before SunsetÊ           88           1              R   \n",
       "169                          BoyhoodÊ           88           1              R   \n",
       "170                   Cinderella ManÊ           95           1          PG-13   \n",
       "171             A Fistful of DollarsÊ           98           2              R   \n",
       "172                              HerÊ           99           1              R   \n",
       "173  The Perks of Being a WallflowerÊ          101           1          PG-13   \n",
       "174                           BrazilÊ          106           8              R   \n",
       "175                         Big FishÊ          108           1          PG-13   \n",
       "176                     True RomanceÊ          112           1              R   \n",
       "177                       PersepolisÊ          114           7          PG-13   \n",
       "\n",
       "     title_year  imdb_score     gross  duration  \n",
       "168        2004         8.0   5792822        80  \n",
       "169        2014         8.0  25359200       165  \n",
       "170        2005         8.0  61644321       144  \n",
       "171        1964         8.0   3500000        99  \n",
       "172        2013         8.0  25556065       126  \n",
       "173        2012         8.0  17738570       102  \n",
       "174        1985         8.0   9929000       142  \n",
       "175        2003         8.0  66257002       125  \n",
       "176        1993         8.0  12281500       121  \n",
       "177        2007         8.0   4443403        89  "
      ]
     },
     "execution_count": 88,
     "metadata": {},
     "output_type": "execute_result"
    }
   ],
   "source": [
    "#The command to display 10 rows from bottom\n",
    "\n",
    "df.tail(10)"
   ]
  },
  {
   "cell_type": "markdown",
   "id": "468ffdb7-0872-4974-b5cc-dd82a7c53d1d",
   "metadata": {},
   "source": [
    "QUESTION 3: Show whether there is any duplicated record. show which column does not have duplicated value."
   ]
  },
  {
   "cell_type": "code",
   "execution_count": 2,
   "id": "1163a2ea-4308-4f4a-808a-c4923962b210",
   "metadata": {},
   "outputs": [
    {
     "data": {
      "text/plain": [
       "Index(['movie_title', 'director_id', 'country_id', 'content_rating',\n",
       "       'title_year', 'imdb_score', 'gross', 'duration'],\n",
       "      dtype='object')"
      ]
     },
     "execution_count": 2,
     "metadata": {},
     "output_type": "execute_result"
    }
   ],
   "source": [
    "#to show list of columns\n",
    "df.columns"
   ]
  },
  {
   "cell_type": "code",
   "execution_count": 90,
   "id": "c0e878e3-c247-4c45-b0dd-72b864ddf011",
   "metadata": {},
   "outputs": [
    {
     "data": {
      "text/plain": [
       "0      False\n",
       "1      False\n",
       "2      False\n",
       "3      False\n",
       "4      False\n",
       "       ...  \n",
       "173    False\n",
       "174    False\n",
       "175    False\n",
       "176    False\n",
       "177    False\n",
       "Length: 178, dtype: bool"
      ]
     },
     "execution_count": 90,
     "metadata": {},
     "output_type": "execute_result"
    }
   ],
   "source": [
    "# The command to check whether there is any duplicated record\n",
    "\n",
    "df.duplicated()\n",
    "\n"
   ]
  },
  {
   "cell_type": "code",
   "execution_count": 3,
   "id": "34fb1e6c-a5ce-4820-9569-1633730038e9",
   "metadata": {},
   "outputs": [
    {
     "name": "stdout",
     "output_type": "stream",
     "text": [
      "Columns that have no duplicates:  Index(['movie_title', 'gross'], dtype='object')\n"
     ]
    }
   ],
   "source": [
    "# The command to show which columns that have no duplicated value\n",
    "unique_counts = df.nunique()\n",
    "\n",
    "columns_unduplicated_value = unique_counts[unique_counts == len(df)].index\n",
    "print(\"Columns that have no duplicates: \", columns_unduplicated_value) "
   ]
  },
  {
   "cell_type": "code",
   "execution_count": 92,
   "id": "b14ee9e1-b341-4741-86d9-c42c59574060",
   "metadata": {},
   "outputs": [
    {
     "data": {
      "text/plain": [
       "0      False\n",
       "1      False\n",
       "2      False\n",
       "3      False\n",
       "4      False\n",
       "       ...  \n",
       "173    False\n",
       "174    False\n",
       "175    False\n",
       "176    False\n",
       "177    False\n",
       "Name: movie_title, Length: 178, dtype: bool"
      ]
     },
     "execution_count": 92,
     "metadata": {},
     "output_type": "execute_result"
    }
   ],
   "source": [
    "# The command to check whether there is any duplicated record in columns movie_title\n",
    "# this show columns movie_title have no duplicate\n",
    "df['movie_title'].duplicated()"
   ]
  },
  {
   "cell_type": "code",
   "execution_count": 4,
   "id": "1c5bde59-585b-4503-8ea4-1dabcbdb09ba",
   "metadata": {},
   "outputs": [
    {
     "data": {
      "text/plain": [
       "0"
      ]
     },
     "execution_count": 4,
     "metadata": {},
     "output_type": "execute_result"
    }
   ],
   "source": [
    "df['movie_title'].duplicated().sum()"
   ]
  },
  {
   "cell_type": "code",
   "execution_count": 5,
   "id": "f99ed7bf-8be8-4872-b66b-7d7bb652e900",
   "metadata": {},
   "outputs": [
    {
     "data": {
      "text/html": [
       "<div>\n",
       "<style scoped>\n",
       "    .dataframe tbody tr th:only-of-type {\n",
       "        vertical-align: middle;\n",
       "    }\n",
       "\n",
       "    .dataframe tbody tr th {\n",
       "        vertical-align: top;\n",
       "    }\n",
       "\n",
       "    .dataframe thead th {\n",
       "        text-align: right;\n",
       "    }\n",
       "</style>\n",
       "<table border=\"1\" class=\"dataframe\">\n",
       "  <thead>\n",
       "    <tr style=\"text-align: right;\">\n",
       "      <th></th>\n",
       "      <th>movie_title</th>\n",
       "      <th>director_id</th>\n",
       "      <th>country_id</th>\n",
       "      <th>content_rating</th>\n",
       "      <th>title_year</th>\n",
       "      <th>imdb_score</th>\n",
       "      <th>gross</th>\n",
       "      <th>duration</th>\n",
       "    </tr>\n",
       "  </thead>\n",
       "  <tbody>\n",
       "  </tbody>\n",
       "</table>\n",
       "</div>"
      ],
      "text/plain": [
       "Empty DataFrame\n",
       "Columns: [movie_title, director_id, country_id, content_rating, title_year, imdb_score, gross, duration]\n",
       "Index: []"
      ]
     },
     "execution_count": 5,
     "metadata": {},
     "output_type": "execute_result"
    }
   ],
   "source": [
    "df[df['movie_title'].duplicated()].head()    # its shows that have no duplicated value in columns movie_title"
   ]
  },
  {
   "cell_type": "code",
   "execution_count": 95,
   "id": "72d5a03c-d254-413b-b296-a219c488ad5f",
   "metadata": {},
   "outputs": [
    {
     "data": {
      "text/plain": [
       "0      False\n",
       "1      False\n",
       "2      False\n",
       "3      False\n",
       "4      False\n",
       "       ...  \n",
       "173    False\n",
       "174    False\n",
       "175    False\n",
       "176    False\n",
       "177    False\n",
       "Name: gross, Length: 178, dtype: bool"
      ]
     },
     "execution_count": 95,
     "metadata": {},
     "output_type": "execute_result"
    }
   ],
   "source": [
    "# The command to check whether there is any duplicated record in columns gross\n",
    "# this show columns gross have no duplicate\n",
    "\n",
    "df['gross'].duplicated()"
   ]
  },
  {
   "cell_type": "code",
   "execution_count": 96,
   "id": "0b0b6166-f365-4507-bb02-de9eb8f78dcf",
   "metadata": {},
   "outputs": [
    {
     "data": {
      "text/plain": [
       "0"
      ]
     },
     "execution_count": 96,
     "metadata": {},
     "output_type": "execute_result"
    }
   ],
   "source": [
    "df['gross'].duplicated().sum()"
   ]
  },
  {
   "cell_type": "code",
   "execution_count": 97,
   "id": "b985aa74-1e1c-476e-b34e-daca7d252a9d",
   "metadata": {},
   "outputs": [
    {
     "data": {
      "text/html": [
       "<div>\n",
       "<style scoped>\n",
       "    .dataframe tbody tr th:only-of-type {\n",
       "        vertical-align: middle;\n",
       "    }\n",
       "\n",
       "    .dataframe tbody tr th {\n",
       "        vertical-align: top;\n",
       "    }\n",
       "\n",
       "    .dataframe thead th {\n",
       "        text-align: right;\n",
       "    }\n",
       "</style>\n",
       "<table border=\"1\" class=\"dataframe\">\n",
       "  <thead>\n",
       "    <tr style=\"text-align: right;\">\n",
       "      <th></th>\n",
       "      <th>movie_title</th>\n",
       "      <th>director_id</th>\n",
       "      <th>country_id</th>\n",
       "      <th>content_rating</th>\n",
       "      <th>title_year</th>\n",
       "      <th>imdb_score</th>\n",
       "      <th>gross</th>\n",
       "      <th>duration</th>\n",
       "    </tr>\n",
       "  </thead>\n",
       "  <tbody>\n",
       "  </tbody>\n",
       "</table>\n",
       "</div>"
      ],
      "text/plain": [
       "Empty DataFrame\n",
       "Columns: [movie_title, director_id, country_id, content_rating, title_year, imdb_score, gross, duration]\n",
       "Index: []"
      ]
     },
     "execution_count": 97,
     "metadata": {},
     "output_type": "execute_result"
    }
   ],
   "source": [
    "df[df['gross'].duplicated()].head()    # its shows that have no duplicated value in columns gross"
   ]
  },
  {
   "cell_type": "markdown",
   "id": "d9e8c54f-c3b6-4e5a-b5e4-3495ca5cc97c",
   "metadata": {},
   "source": [
    "QUESTION 4: Select and display movies that are released from the year 2000 and have an IMDB score between 8.5 to 8.8."
   ]
  },
  {
   "cell_type": "code",
   "execution_count": 98,
   "id": "bf050259-72de-409d-b79b-df8d2e765029",
   "metadata": {},
   "outputs": [
    {
     "data": {
      "text/plain": [
       "Index(['movie_title', 'director_id', 'country_id', 'content_rating',\n",
       "       'title_year', 'imdb_score', 'gross', 'duration'],\n",
       "      dtype='object')"
      ]
     },
     "execution_count": 98,
     "metadata": {},
     "output_type": "execute_result"
    }
   ],
   "source": [
    "df.columns"
   ]
  },
  {
   "cell_type": "code",
   "execution_count": 99,
   "id": "13be43ef-68f9-4215-8150-9fd050ceba08",
   "metadata": {},
   "outputs": [
    {
     "data": {
      "text/html": [
       "<div>\n",
       "<style scoped>\n",
       "    .dataframe tbody tr th:only-of-type {\n",
       "        vertical-align: middle;\n",
       "    }\n",
       "\n",
       "    .dataframe tbody tr th {\n",
       "        vertical-align: top;\n",
       "    }\n",
       "\n",
       "    .dataframe thead th {\n",
       "        text-align: right;\n",
       "    }\n",
       "</style>\n",
       "<table border=\"1\" class=\"dataframe\">\n",
       "  <thead>\n",
       "    <tr style=\"text-align: right;\">\n",
       "      <th></th>\n",
       "      <th>movie_title</th>\n",
       "      <th>director_id</th>\n",
       "      <th>country_id</th>\n",
       "      <th>content_rating</th>\n",
       "      <th>title_year</th>\n",
       "      <th>imdb_score</th>\n",
       "      <th>gross</th>\n",
       "      <th>duration</th>\n",
       "    </tr>\n",
       "  </thead>\n",
       "  <tbody>\n",
       "    <tr>\n",
       "      <th>0</th>\n",
       "      <td>The Shawshank RedemptionÊ</td>\n",
       "      <td>34</td>\n",
       "      <td>1</td>\n",
       "      <td>R</td>\n",
       "      <td>1994</td>\n",
       "      <td>9.3</td>\n",
       "      <td>28341469</td>\n",
       "      <td>142</td>\n",
       "    </tr>\n",
       "    <tr>\n",
       "      <th>1</th>\n",
       "      <td>The GodfatherÊ</td>\n",
       "      <td>33</td>\n",
       "      <td>1</td>\n",
       "      <td>R</td>\n",
       "      <td>1972</td>\n",
       "      <td>9.2</td>\n",
       "      <td>134821952</td>\n",
       "      <td>175</td>\n",
       "    </tr>\n",
       "    <tr>\n",
       "      <th>2</th>\n",
       "      <td>The Dark KnightÊ</td>\n",
       "      <td>16</td>\n",
       "      <td>1</td>\n",
       "      <td>PG-13</td>\n",
       "      <td>2008</td>\n",
       "      <td>9.0</td>\n",
       "      <td>533316061</td>\n",
       "      <td>152</td>\n",
       "    </tr>\n",
       "    <tr>\n",
       "      <th>3</th>\n",
       "      <td>The Godfather: Part IIÊ</td>\n",
       "      <td>33</td>\n",
       "      <td>1</td>\n",
       "      <td>R</td>\n",
       "      <td>1974</td>\n",
       "      <td>9.0</td>\n",
       "      <td>57300000</td>\n",
       "      <td>220</td>\n",
       "    </tr>\n",
       "    <tr>\n",
       "      <th>4</th>\n",
       "      <td>The Lord of the Rings: The Return of the KingÊ</td>\n",
       "      <td>83</td>\n",
       "      <td>1</td>\n",
       "      <td>PG-13</td>\n",
       "      <td>2003</td>\n",
       "      <td>8.9</td>\n",
       "      <td>377019252</td>\n",
       "      <td>192</td>\n",
       "    </tr>\n",
       "  </tbody>\n",
       "</table>\n",
       "</div>"
      ],
      "text/plain": [
       "                                      movie_title  director_id  country_id  \\\n",
       "0                       The Shawshank RedemptionÊ           34           1   \n",
       "1                                  The GodfatherÊ           33           1   \n",
       "2                                The Dark KnightÊ           16           1   \n",
       "3                         The Godfather: Part IIÊ           33           1   \n",
       "4  The Lord of the Rings: The Return of the KingÊ           83           1   \n",
       "\n",
       "  content_rating  title_year  imdb_score      gross  duration  \n",
       "0              R        1994         9.3   28341469       142  \n",
       "1              R        1972         9.2  134821952       175  \n",
       "2          PG-13        2008         9.0  533316061       152  \n",
       "3              R        1974         9.0   57300000       220  \n",
       "4          PG-13        2003         8.9  377019252       192  "
      ]
     },
     "execution_count": 99,
     "metadata": {},
     "output_type": "execute_result"
    }
   ],
   "source": [
    "df.head()"
   ]
  },
  {
   "cell_type": "code",
   "execution_count": 6,
   "id": "90c47095-1e20-4f06-85d0-fd184f17c0eb",
   "metadata": {},
   "outputs": [
    {
     "data": {
      "text/html": [
       "<div>\n",
       "<style scoped>\n",
       "    .dataframe tbody tr th:only-of-type {\n",
       "        vertical-align: middle;\n",
       "    }\n",
       "\n",
       "    .dataframe tbody tr th {\n",
       "        vertical-align: top;\n",
       "    }\n",
       "\n",
       "    .dataframe thead th {\n",
       "        text-align: right;\n",
       "    }\n",
       "</style>\n",
       "<table border=\"1\" class=\"dataframe\">\n",
       "  <thead>\n",
       "    <tr style=\"text-align: right;\">\n",
       "      <th></th>\n",
       "      <th>movie_title</th>\n",
       "      <th>director_id</th>\n",
       "      <th>country_id</th>\n",
       "      <th>content_rating</th>\n",
       "      <th>title_year</th>\n",
       "      <th>imdb_score</th>\n",
       "      <th>gross</th>\n",
       "      <th>duration</th>\n",
       "    </tr>\n",
       "  </thead>\n",
       "  <tbody>\n",
       "    <tr>\n",
       "      <th>29</th>\n",
       "      <td>MementoÊ</td>\n",
       "      <td>16</td>\n",
       "      <td>1</td>\n",
       "      <td>R</td>\n",
       "      <td>2000</td>\n",
       "      <td>8.5</td>\n",
       "      <td>25530884</td>\n",
       "      <td>113</td>\n",
       "    </tr>\n",
       "    <tr>\n",
       "      <th>39</th>\n",
       "      <td>GladiatorÊ</td>\n",
       "      <td>90</td>\n",
       "      <td>1</td>\n",
       "      <td>R</td>\n",
       "      <td>2000</td>\n",
       "      <td>8.5</td>\n",
       "      <td>187670866</td>\n",
       "      <td>171</td>\n",
       "    </tr>\n",
       "  </tbody>\n",
       "</table>\n",
       "</div>"
      ],
      "text/plain": [
       "   movie_title  director_id  country_id content_rating  title_year  \\\n",
       "29    MementoÊ           16           1              R        2000   \n",
       "39  GladiatorÊ           90           1              R        2000   \n",
       "\n",
       "    imdb_score      gross  duration  \n",
       "29         8.5   25530884       113  \n",
       "39         8.5  187670866       171  "
      ]
     },
     "execution_count": 6,
     "metadata": {},
     "output_type": "execute_result"
    }
   ],
   "source": [
    "import pandas as pd\n",
    "\n",
    "selected_movies = df[(df['title_year'] == 2000) & (df['imdb_score'] >= 8.5) & (df['imdb_score'] <= 8.8)]\n",
    "(selected_movies)\n"
   ]
  },
  {
   "cell_type": "code",
   "execution_count": null,
   "id": "3f521114-287a-4c85-8a8a-2c0ded9e402a",
   "metadata": {},
   "outputs": [],
   "source": []
  }
 ],
 "metadata": {
  "kernelspec": {
   "display_name": "Python 3 (ipykernel)",
   "language": "python",
   "name": "python3"
  },
  "language_info": {
   "codemirror_mode": {
    "name": "ipython",
    "version": 3
   },
   "file_extension": ".py",
   "mimetype": "text/x-python",
   "name": "python",
   "nbconvert_exporter": "python",
   "pygments_lexer": "ipython3",
   "version": "3.11.7"
  }
 },
 "nbformat": 4,
 "nbformat_minor": 5
}
